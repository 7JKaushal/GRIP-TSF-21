{
 "cells": [
  {
   "cell_type": "markdown",
   "id": "ff10f157-043a-46f2-ab0e-641d68b47115",
   "metadata": {},
   "source": [
    "## The Sparks Foundation\n",
    "## Data Science & Business Analytics Internship - July 2021  \n",
    "### Kaushal Joshi, Mumbai\n",
    "#### Task: Predict the percentage of a student based on the number of study hours."
   ]
  },
  {
   "cell_type": "code",
   "execution_count": 1,
   "id": "0e06619b-a8be-4b77-ab46-1bd5bdeab66e",
   "metadata": {},
   "outputs": [],
   "source": [
    "# Importing necessary libraries\n",
    "import numpy as np\n",
    "import pandas as pd\n",
    "import matplotlib.pyplot as plt \n",
    "\n",
    "from sklearn.linear_model import LinearRegression\n",
    "from sklearn.model_selection import train_test_split\n",
    "from sklearn.metrics import mean_absolute_error"
   ]
  },
  {
   "cell_type": "code",
   "execution_count": 5,
   "id": "3c94fc24-ffd2-4dcd-8f4a-679c0bcd9ea4",
   "metadata": {},
   "outputs": [
    {
     "data": {
      "text/html": [
       "<div>\n",
       "<style scoped>\n",
       "    .dataframe tbody tr th:only-of-type {\n",
       "        vertical-align: middle;\n",
       "    }\n",
       "\n",
       "    .dataframe tbody tr th {\n",
       "        vertical-align: top;\n",
       "    }\n",
       "\n",
       "    .dataframe thead th {\n",
       "        text-align: right;\n",
       "    }\n",
       "</style>\n",
       "<table border=\"1\" class=\"dataframe\">\n",
       "  <thead>\n",
       "    <tr style=\"text-align: right;\">\n",
       "      <th></th>\n",
       "      <th>Hours</th>\n",
       "      <th>Scores</th>\n",
       "    </tr>\n",
       "  </thead>\n",
       "  <tbody>\n",
       "    <tr>\n",
       "      <th>count</th>\n",
       "      <td>25.000000</td>\n",
       "      <td>25.000000</td>\n",
       "    </tr>\n",
       "    <tr>\n",
       "      <th>mean</th>\n",
       "      <td>5.012000</td>\n",
       "      <td>51.480000</td>\n",
       "    </tr>\n",
       "    <tr>\n",
       "      <th>std</th>\n",
       "      <td>2.525094</td>\n",
       "      <td>25.286887</td>\n",
       "    </tr>\n",
       "    <tr>\n",
       "      <th>min</th>\n",
       "      <td>1.100000</td>\n",
       "      <td>17.000000</td>\n",
       "    </tr>\n",
       "    <tr>\n",
       "      <th>25%</th>\n",
       "      <td>2.700000</td>\n",
       "      <td>30.000000</td>\n",
       "    </tr>\n",
       "    <tr>\n",
       "      <th>50%</th>\n",
       "      <td>4.800000</td>\n",
       "      <td>47.000000</td>\n",
       "    </tr>\n",
       "    <tr>\n",
       "      <th>75%</th>\n",
       "      <td>7.400000</td>\n",
       "      <td>75.000000</td>\n",
       "    </tr>\n",
       "    <tr>\n",
       "      <th>max</th>\n",
       "      <td>9.200000</td>\n",
       "      <td>95.000000</td>\n",
       "    </tr>\n",
       "  </tbody>\n",
       "</table>\n",
       "</div>"
      ],
      "text/plain": [
       "           Hours     Scores\n",
       "count  25.000000  25.000000\n",
       "mean    5.012000  51.480000\n",
       "std     2.525094  25.286887\n",
       "min     1.100000  17.000000\n",
       "25%     2.700000  30.000000\n",
       "50%     4.800000  47.000000\n",
       "75%     7.400000  75.000000\n",
       "max     9.200000  95.000000"
      ]
     },
     "execution_count": 5,
     "metadata": {},
     "output_type": "execute_result"
    }
   ],
   "source": [
    "df = pd.read_csv('dataset.csv')\n",
    "df.describe()"
   ]
  },
  {
   "cell_type": "code",
   "execution_count": null,
   "id": "015c0f37-158f-441f-aaf6-7f1c8998b368",
   "metadata": {},
   "outputs": [],
   "source": [
    "df.plot(x='Hours', y='Scores', style='.', color='r')\n",
    "plt.title(\"Relation of score to the hours of study\")\n",
    "plt.xlabel(\"Hours\")\n",
    "plt.ylabel(\"Score\")\n",
    "plt.show()"
   ]
  },
  {
   "cell_type": "raw",
   "id": "8c805b97-a50d-4332-8ae9-2a6fe6317e2c",
   "metadata": {},
   "source": [
    "As we can see, there is a positive linear co-relation between the number of hours studied and percentage scored."
   ]
  },
  {
   "cell_type": "markdown",
   "id": "456d682e-08ba-4bdc-a2a2-c7e6a46bcb1d",
   "metadata": {},
   "source": [
    "### Preparing the Data"
   ]
  },
  {
   "cell_type": "code",
   "execution_count": 59,
   "id": "54effccd-b13a-4a74-a449-2debfc8d767c",
   "metadata": {},
   "outputs": [],
   "source": [
    "# Divide the data into Attributes and Labels\n",
    "\n",
    "X = df.iloc[:,:-1].values\n",
    "Y = df.iloc[:,1].values"
   ]
  },
  {
   "cell_type": "markdown",
   "id": "49184aad-28f7-4f95-be8c-3697efd42e3f",
   "metadata": {},
   "source": [
    "### Visualising the test and train dataset "
   ]
  },
  {
   "cell_type": "code",
   "execution_count": 60,
   "id": "f906ba98-8883-4814-b7d2-4a6c0e49458c",
   "metadata": {},
   "outputs": [
    {
     "data": {
      "image/png": "[encoded data removed]",
      "text/plain": [
       "<Figure size 432x288 with 1 Axes>"
      ]
     },
     "metadata": {
      "needs_background": "light"
     },
     "output_type": "display_data"
    }
   ],
   "source": [
    "# Splitting the data in training and test sets \n",
    "x_train, x_test, y_train, y_test = train_test_split(X, Y, test_size = 0.3, random_state = 0)\n",
    "\n",
    "plt.scatter(x_train, y_train, label='Training Data', color='r')\n",
    "plt.scatter(x_test, y_test, label='Testing Data', color='g')\n",
    "plt.title(\"Test-Train Split Visualision\")\n",
    "plt.legend()\n",
    "plt.show()"
   ]
  },
  {
   "cell_type": "markdown",
   "id": "9c0d3c55-5575-457f-88a1-95cc9cb06bd2",
   "metadata": {},
   "source": [
    "### Creating a Linear Model"
   ]
  },
  {
   "cell_type": "code",
   "execution_count": 61,
   "id": "118e7324-6d7a-4dbb-a88d-3e338847c0e6",
   "metadata": {},
   "outputs": [
    {
     "data": {
      "text/plain": [
       "LinearRegression()"
      ]
     },
     "execution_count": 61,
     "metadata": {},
     "output_type": "execute_result"
    }
   ],
   "source": [
    "LR = LinearRegression()\n",
    "LR.fit(x_train, y_train)"
   ]
  },
  {
   "cell_type": "markdown",
   "id": "e09bde41-0495-479a-a12f-e57682eef3fa",
   "metadata": {},
   "source": [
    "### Creating a Prediction on Test data"
   ]
  },
  {
   "cell_type": "code",
   "execution_count": 62,
   "id": "1ea43a42-b898-4297-89b1-f3f8cdf3682e",
   "metadata": {},
   "outputs": [],
   "source": [
    "prediction = LR.predict(x_test)"
   ]
  },
  {
   "cell_type": "code",
   "execution_count": 63,
   "id": "108d6519-2fee-4e42-b352-0d62bb3dd3d3",
   "metadata": {},
   "outputs": [
    {
     "data": {
      "image/png": "[encoded data removed]",
      "text/plain": [
       "<Figure size 432x288 with 1 Axes>"
      ]
     },
     "metadata": {
      "needs_background": "light"
     },
     "output_type": "display_data"
    }
   ],
   "source": [
    "plt.scatter(x_test, y_test, label='Actual Test Data', color='g')\n",
    "plt.plot(x_test, prediction, label='Linear Regression', color='r')\n",
    "plt.title(\"Actual v/s Predicted\")\n",
    "plt.ylabel(\"Scores\")\n",
    "plt.xlabel(\"Hours\")\n",
    "plt.legend()\n",
    "plt.show()"
   ]
  },
  {
   "cell_type": "code",
   "execution_count": 64,
   "id": "172b4320-247d-4853-af52-c0155674ff21",
   "metadata": {},
   "outputs": [
    {
     "name": "stdout",
     "output_type": "stream",
     "text": [
      "   Actual  Predicted\n",
      "0      20  17.053665\n",
      "1      27  33.694229\n",
      "2      69  74.806209\n",
      "3      30  26.842232\n",
      "4      62  60.123359\n",
      "5      35  39.567369\n",
      "6      24  20.969092\n",
      "7      86  78.721636\n",
      "\n"
     ]
    },
    {
     "data": {
      "text/plain": [
       "0.9529426789332803"
      ]
     },
     "execution_count": 64,
     "metadata": {},
     "output_type": "execute_result"
    }
   ],
   "source": [
    "compare_df = pd.DataFrame( { \"Actual\": y_test, \"Predicted\": prediction } )\n",
    "print(compare_df)\n",
    "print()\n",
    "LR.score(X, Y)"
   ]
  },
  {
   "cell_type": "markdown",
   "id": "6d2db8f0-a836-431b-8d17-36083ffb0129",
   "metadata": {},
   "source": [
    "### Evaluating the model "
   ]
  },
  {
   "cell_type": "code",
   "execution_count": 65,
   "id": "a688356c-51d7-44f7-85b3-400d3fc06d20",
   "metadata": {},
   "outputs": [
    {
     "name": "stdout",
     "output_type": "stream",
     "text": [
      "Mean absolute error of givern dataset is:  4.419727808027652\n"
     ]
    }
   ],
   "source": [
    "# Mean absolute error\n",
    "print('Mean absolute error of givern dataset is: ', mean_absolute_error(y_test, prediction))"
   ]
  },
  {
   "cell_type": "code",
   "execution_count": 67,
   "id": "282a858d-afee-4f33-b880-353b23dacc0a",
   "metadata": {},
   "outputs": [
    {
     "name": "stdout",
     "output_type": "stream",
     "text": [
      "Predicted score for  9.25  is:  92.91505723477056\n"
     ]
    }
   ],
   "source": [
    "## Prediction for 9.5 hours\n",
    "hours = 9.25\n",
    "pred_hours_temp = np.array([hours])\n",
    "pred_hours_temp = pred_hours_temp.reshape(-1,1)\n",
    "pred_hours_final = LR.predict(pred_hours_temp)\n",
    "\n",
    "print('Predicted score for ', hours, ' is: ', pred_hours_final[0])"
   ]
  },
  {
   "cell_type": "code",
   "execution_count": null,
   "id": "b18a60ec",
   "metadata": {},
   "outputs": [],
   "source": []
  }
 ],
 "metadata": {
  "kernelspec": {
   "display_name": "Python 3 (ipykernel)",
   "language": "python",
   "name": "python3"
  },
  "language_info": {
   "codemirror_mode": {
    "name": "ipython",
    "version": 3
   },
   "file_extension": ".py",
   "mimetype": "text/x-python",
   "name": "python",
   "nbconvert_exporter": "python",
   "pygments_lexer": "ipython3",
   "version": "3.9.6"
  }
 },
 "nbformat": 4,
 "nbformat_minor": 5
}
